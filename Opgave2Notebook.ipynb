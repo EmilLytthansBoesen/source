{
 "cells": [
  {
   "cell_type": "markdown",
   "metadata": {},
   "source": [
    "# Introduktion\n",
    "I dette forsøg skal i arbejde med numerisk simuleringsværktøjer. Jeg har skrevet en lille \"code base\", som i skal arbejde med."
   ]
  },
  {
   "cell_type": "markdown",
   "metadata": {},
   "source": [
    "# Eksperiment II\n",
    "Fra det forrige eksperiment har i målt en masse data. For at sammenligne med modellen for vinmodstand har jeg lavet et lille program der udregner de teoretiske faldtider. Her skal i indtast jeres målte data og så tjekker vi om hvor godt det passer til teorien."
   ]
  },
  {
   "cell_type": "code",
   "execution_count": null,
   "metadata": {},
   "outputs": [],
   "source": [
    "import opgave_1.checking_measured_data as checking_measured_data\n"
   ]
  },
  {
   "cell_type": "code",
   "execution_count": null,
   "metadata": {},
   "outputs": [],
   "source": [
    "\"\"\"Her skal i indtast informationer om jeres forsøgsopstilling\"\"\"\n",
    "HEIGHT_IN_CM: float     = 200\n",
    "BASE_MASS_IN_G: float   = 0.01\n",
    "DIAMETER_IN_CM: float   = 10\n",
    "experiment_setup = checking_measured_data.get_experimental_setup(height_in_cm=HEIGHT_IN_CM, base_mass_in_g=BASE_MASS_IN_G, diameter_in_cm=DIAMETER_IN_CM, verbose=False)\n"
   ]
  },
  {
   "cell_type": "code",
   "execution_count": null,
   "metadata": {},
   "outputs": [],
   "source": [
    "\"\"\"\"Skriv jeres datapunkter i listerne herunder\n",
    "\n",
    "Lister i Python skriver man ved kantede parenteser og komma imellem elementerne. \n",
    "I Python bruger man punktum i kommatal\n",
    "\n",
    "En list kan derfor være:    [0, 1, 2, 3.3, 4.5]\n",
    "Denne liste indeholde 5 elementer som er \n",
    "    0\n",
    "    1\n",
    "    2\n",
    "    3,3\n",
    "    4,5\n",
    "\"\"\"\n",
    "ANTAL_KAGEFORMER: list      = [1, 2, 3, 4, 5, 6, 7]\n",
    "FALDTID_I_SEKUNDER: list    = [1.0, 2.0, 3.0, 4.0, 5.0]\n",
    "\n",
    "# Hernede udregnes form faktor ved at bruge den teoretiske løsning. Den bedste form faktor findes ud fra data\n",
    "drag_coefficient, error = checking_measured_data.calculate_drag_coefficient_from_fit(ANTAL_KAGEFORMER, FALDTID_I_SEKUNDER, experiment_setup)\n",
    "\n",
    "checking_measured_data.draw_results(ANTAL_KAGEFORMER, FALDTID_I_SEKUNDER, experiment_setup, fit_drag_coeff=drag_coefficient, loglog=False)\n",
    "checking_measured_data.draw_results(ANTAL_KAGEFORMER, FALDTID_I_SEKUNDER, experiment_setup, fit_drag_coeff=drag_coefficient, loglog=True)\n",
    "\n",
    "print(f\"Form factoren cv er målt til: {drag_coefficient:.2f} \\u00B1 {error:.2f}\")\n"
   ]
  },
  {
   "cell_type": "markdown",
   "metadata": {},
   "source": [
    "## Optimal kastevinkel\n",
    "Når vi har en model der virker kan man bruge den til at svare på spørgsmål der er være at svare på. "
   ]
  },
  {
   "cell_type": "code",
   "execution_count": null,
   "metadata": {},
   "outputs": [],
   "source": [
    "from opgave_2.angle_measurement import run_angle_experiment\n",
    "run_angle_experiment()"
   ]
  }
 ],
 "metadata": {
  "kernelspec": {
   "display_name": "Python 3",
   "language": "python",
   "name": "python3"
  },
  "language_info": {
   "codemirror_mode": {
    "name": "ipython",
    "version": 3
   },
   "file_extension": ".py",
   "mimetype": "text/x-python",
   "name": "python",
   "nbconvert_exporter": "python",
   "pygments_lexer": "ipython3",
   "version": "3.12.0"
  }
 },
 "nbformat": 4,
 "nbformat_minor": 2
}
