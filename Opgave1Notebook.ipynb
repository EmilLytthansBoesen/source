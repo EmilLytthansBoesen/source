{
 "cells": [
  {
   "cell_type": "markdown",
   "metadata": {},
   "source": [
    "# Databehandling af jeres data\n",
    "I denne lille notesbog kan i indtaste jeres data fra eksperimenterne. Jeres data vil blive tegnet for jer, hvorefter I skal analyserer dem. \n",
    "\n",
    "Når man bruger Jupyter notebook arbejder man i noget der hedder **celler**. Disse **celler** er små stykker kode som i skal arbejde med. For at \"køre\" en **celle**, altså få koden til at køre, stiller man sig i en af cellerne og trykker ctrl + enter. Alternativt kan i også trykke på pilen oppe i venstre hjørne af hver celle. Prøv foreksempel cellen nedenunder.\n",
    "\n"
   ]
  },
  {
   "cell_type": "code",
   "execution_count": null,
   "metadata": {},
   "outputs": [],
   "source": [
    "\"\"\"HUSK AT GØRE DENNE CELLE\n",
    "\n",
    "Den gør ikke så meget, men den sørger for at alle de funktioner i skal bruge er med.\n",
    "\"\"\"\n",
    "\n",
    "import ipywidgets as widgets\n",
    "from opgave_1.første_opgave import *\n",
    "\n",
    "intro_question()"
   ]
  },
  {
   "cell_type": "markdown",
   "metadata": {},
   "source": [
    "## Databehandling for første eksperiment\n",
    "I dette eksperiment har I målt hvor langt tid det tage for en genstand af falde fra en bestemt højde. I skal indtaste højden og faldtiden for jeres forsøg. \n",
    "\n",
    "I skal også skrive jeres data ind ved at bruge Pythons lister. Her skriver man tallene ind imellem kantede parenteser. Mellem tallene sætter man et komma \",\". Når i skal skrive kommatal ind, så skal I bruge et punktum \".\" i stedet for komma. Det kan engelsktallende lande godt lidt af gøre.\n",
    "\n",
    "Eksempel:\n",
    "    \n",
    "    list_med_heltal     = [1, 2, 3, 4, 5, 6]\n",
    "    list_med_kommatal   = [1.1, 2.2, 3.3, 4.4, 5.5, 6.6]\n",
    "\n",
    "**Husk at køre cellen**."
   ]
  },
  {
   "cell_type": "code",
   "execution_count": null,
   "metadata": {},
   "outputs": [],
   "source": [
    "HØJDEN_AF_FALDET_MÅLT_I_CENTIMETER  = [..., ..., ...]\n",
    "FALDTIDEN_MÅLT_I_SEKUNDER           = [..., ..., ...]\n",
    "\n",
    "tegn_resultatet(HØJDEN_AF_FALDET_MÅLT_I_CENTIMETER, FALDTIDEN_MÅLT_I_SEKUNDER)"
   ]
  },
  {
   "cell_type": "markdown",
   "metadata": {},
   "source": [
    "# Databehandling af andet eksperiment\n",
    "I dette eksperiment ser vi på hvordan faldtiden påvirkes af genstandens masse. Skriv jeres resultater ind i cellen nedenunder og så skal I bare se."
   ]
  },
  {
   "cell_type": "code",
   "execution_count": null,
   "metadata": {},
   "outputs": [],
   "source": [
    "FALDHØJDE_MÅLT_I_CENTIMETER       = ...\n",
    "MASS_AF_EN_ENKELT_KAGEFORM_I_GRAM = ...\n",
    "\n",
    "ANTAL_KAGEFORMER_TABT     = [1, 2, 3, ...]\n",
    "FALDTIDER_MÅLT_I_SEKUNDER = [..., ..., ...]\n",
    "\n",
    "analyser_masse_afhængighed(ANTAL_KAGEFORMER_TABT, FALDTIDER_MÅLT_I_SEKUNDER, MASS_AF_EN_ENKELT_KAGEFORM_I_GRAM)\n"
   ]
  },
  {
   "cell_type": "markdown",
   "metadata": {},
   "source": [
    "Prøv at finde ud af hvilken model det passer bedst til data. \n",
    "I kan prøve at vælge forskellige modeller ved at brug dropdown menuen til at prøve forskellige modeller."
   ]
  },
  {
   "cell_type": "code",
   "execution_count": null,
   "metadata": {},
   "outputs": [],
   "source": [
    "from opgave_1.fit_model import FIT_MODELS\n",
    "from opgave_1.mass_dependence import fit_model_plot_factory as plot_factory\n",
    "\n",
    "plot_fit = plot_factory(ANTAL_KAGEFORMER_TABT, FALDTIDER_MÅLT_I_SEKUNDER, MASS_AF_EN_ENKELT_KAGEFORM_I_GRAM)\n",
    "\n",
    "\n",
    "\n",
    "_ = widgets.interact(plot_fit, model=widgets.Dropdown(options=FIT_MODELS))"
   ]
  }
 ],
 "metadata": {
  "kernelspec": {
   "display_name": "Python 3",
   "language": "python",
   "name": "python3"
  },
  "language_info": {
   "codemirror_mode": {
    "name": "ipython",
    "version": 3
   },
   "file_extension": ".py",
   "mimetype": "text/x-python",
   "name": "python",
   "nbconvert_exporter": "python",
   "pygments_lexer": "ipython3",
   "version": "3.12.0"
  }
 },
 "nbformat": 4,
 "nbformat_minor": 2
}
